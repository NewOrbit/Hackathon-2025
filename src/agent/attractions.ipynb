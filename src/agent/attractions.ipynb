{
 "cells": [
  {
   "cell_type": "markdown",
   "id": "88a28606",
   "metadata": {},
   "source": [
    "# Packing list agent"
   ]
  },
  {
   "cell_type": "markdown",
   "id": "4c8b4285",
   "metadata": {},
   "source": [
    "## Setup"
   ]
  },
  {
   "cell_type": "code",
   "execution_count": null,
   "id": "4a8c1aa1",
   "metadata": {},
   "outputs": [
    {
     "name": "stdout",
     "output_type": "stream",
     "text": [
      "python: c:\\code\\Hackathon-2025\\.venv\\Scripts\\python.exe\n",
      "uv: c:\\code\\Hackathon-2025\\.venv\\Scripts\\uv.EXE\n"
     ]
    }
   ],
   "source": [
    "# Step to ensure that the venv is being used for the project not local copies, should point at .venv in project.\n",
    "import sys, shutil\n",
    "print(\"python:\", sys.executable)\n",
    "print(\"uv:\", shutil.which(\"uv\")) "
   ]
  },
  {
   "cell_type": "code",
   "execution_count": null,
   "id": "c4532448",
   "metadata": {},
   "outputs": [],
   "source": []
  },
  {
   "cell_type": "code",
   "execution_count": null,
   "id": "7c3a1676",
   "metadata": {},
   "outputs": [
    {
     "name": "stdout",
     "output_type": "stream",
     "text": [
      "Requirement already satisfied: uv in c:\\code\\hackathon-2025\\.venv\\lib\\site-packages (0.8.22)\n",
      "Note: you may need to restart the kernel to use updated packages.\n"
     ]
    },
    {
     "name": "stderr",
     "output_type": "stream",
     "text": [
      "\u001b[2mUsing Python 3.13.7 environment at: c:\\code\\Hackathon-2025\\.venv\u001b[0m\n",
      "\u001b[2mAudited \u001b[1m13 packages\u001b[0m \u001b[2min 269ms\u001b[0m\u001b[0m\n"
     ]
    }
   ],
   "source": [
    "# installs into the current Jupyter kernel environment\n",
    "%pip install -U uv \n",
    "#! to run shell commands\n",
    "!uv pip install -r requirements.txt"
   ]
  },
  {
   "cell_type": "markdown",
   "id": "32118a83",
   "metadata": {},
   "source": [
    "## Defining functions"
   ]
  },
  {
   "cell_type": "code",
   "execution_count": null,
   "id": "f6fdf3d8",
   "metadata": {},
   "outputs": [
    {
     "name": "stdout",
     "output_type": "stream",
     "text": [
      "✅ Updated imports with official MCP adapter loaded successfully!\n"
     ]
    }
   ],
   "source": [
    "# LangChain + MCP Setup for Attractions Booking (HTTP-based for Jupyter)\n",
    "import os\n",
    "from dotenv import load_dotenv\n",
    "import asyncio\n",
    "import json\n",
    "import requests\n",
    "from typing import Dict, Any, List\n",
    "\n",
    "# LangChain imports\n",
    "from langchain_openai import ChatOpenAI, AzureChatOpenAI\n",
    "from langchain_core.messages import HumanMessage, SystemMessage\n",
    "from langchain.agents import AgentExecutor, create_tool_calling_agent\n",
    "from langchain_core.prompts import ChatPromptTemplate, MessagesPlaceholder\n",
    "from langchain.memory import ConversationBufferMemory\n",
    "\n",
    "# Official MCP adapter imports for HTTP transport\n",
    "from langchain_mcp_adapters.client import MultiServerMCPClient\n",
    "from langchain_mcp_adapters.tools import load_mcp_tools\n",
    "\n",
    "# Load environment variables\n",
    "load_dotenv()\n",
    "\n",
    "print(\"✅ Updated imports with official MCP adapter loaded successfully!\")\n"
   ]
  },
  {
   "cell_type": "code",
   "execution_count": null,
   "id": "f9bc6177",
   "metadata": {},
   "outputs": [
    {
     "ename": "SyntaxError",
     "evalue": "invalid syntax. Perhaps you forgot a comma? (2459421110.py, line 23)",
     "output_type": "error",
     "traceback": [
      "  \u001b[36mCell\u001b[39m\u001b[36m \u001b[39m\u001b[32mIn[4]\u001b[39m\u001b[32m, line 23\u001b[39m\n\u001b[31m    \u001b[39m\u001b[31m\"packing_list\": {\u001b[39m\n                    ^\n\u001b[31mSyntaxError\u001b[39m\u001b[31m:\u001b[39m invalid syntax. Perhaps you forgot a comma?\n"
     ]
    }
   ],
   "source": [
    "# MCP Client Setup using Official Adapter with HTTP Transport\n",
    "import subprocess\n",
    "import time\n",
    "\n",
    "# Global MCP client for HTTP\n",
    "mcp_client = None\n",
    "\n",
    "async def create_mcp_tools():\n",
    "    \"\"\"Create MCP tools using the official LangChain MCP adapter with HTTP transport\"\"\"\n",
    "    global mcp_client\n",
    "    \n",
    "    try:\n",
    "        # Create MultiServerMCPClient with streamable_http transport\n",
    "        mcp_client = MultiServerMCPClient({\n",
    "            \"attractions\": {\n",
    "                \"transport\": \"streamable_http\",\n",
    "                \"url\": os.getenv(\"ATTRACTIONS_MCP_URL\")\n",
    "            },\n",
    "            \"weather\": {\n",
    "                \"transport\": \"streamable_http\",\n",
    "                \"url\": os.getenv(\"WEATHER_MCP_URL\")\n",
    "            },\n",
    "            \"packing_list\": {\n",
    "                \"transport\": \"streamable_http\",\n",
    "                \"url\": os.getenv(\"PACKING_LIST_MCP_URL\")\n",
    "            },\n",
    "            \"endorsements\": {\n",
    "                \"transport\": \"streamable_http\",\n",
    "                \"url\": os.getenv(\"ENDORSEMENTS_MCP_URL\")\n",
    "            }\n",
    "        })\n",
    "        \n",
    "        # Get tools from the MCP server\n",
    "        tools = await mcp_client.get_tools()\n",
    "        print(f\"Loaded {len(tools)} MCP tools: {[tool.name for tool in tools]}\")\n",
    "        return tools\n",
    "        \n",
    "    except Exception as e:\n",
    "        print(f\"Error connecting to MCP HTTP server: {e}\")\n",
    "        return []\n",
    "\n",
    "print(\"🔗 MCP HTTP adapter setup ready!\")\n"
   ]
  },
  {
   "cell_type": "code",
   "execution_count": null,
   "id": "5deceb6f",
   "metadata": {},
   "outputs": [
    {
     "name": "stdout",
     "output_type": "stream",
     "text": [
      "🛠️ Ready to load MCP tools via official adapter!\n"
     ]
    }
   ],
   "source": [
    "# Load MCP Tools using Official Adapter\n",
    "# The tools will be loaded dynamically when setting up the agent\n",
    "# No need to manually create tool wrappers - the adapter handles this automatically\n",
    "print(\"🛠️ Ready to load MCP tools via official adapter!\")\n"
   ]
  },
  {
   "cell_type": "code",
   "execution_count": null,
   "id": "ab1bb59a",
   "metadata": {},
   "outputs": [
    {
     "name": "stdout",
     "output_type": "stream",
     "text": [
      "🤖 Agent setup function ready! Run the next cell to initialize.\n"
     ]
    }
   ],
   "source": [
    "async def setup_agent():\n",
    "    \"\"\"Setup LangChain agent with MCP tools using official adapter\"\"\"\n",
    "    \n",
    "    # Initialize LLM for Azure OpenAI\n",
    "    # can get this from Azure Open Ai service -> Azure Ai Foundary Portal\n",
    "    from langchain_openai import AzureChatOpenAI\n",
    "    \n",
    "    llm = AzureChatOpenAI(\n",
    "        deployment_name=os.getenv(\"DEPLOYMENT_NAME\"),  # Your Azure deployment name\n",
    "        api_key=os.getenv(\"AZURE_OPENAI_API_KEY\"),\n",
    "        azure_endpoint=os.getenv(\"AZURE_OPENAI_ENDPOINT\"), \n",
    "        api_version=os.getenv(\"AZURE_API_VERSION\"), \n",
    "        temperature=1\n",
    "    )\n",
    "    \n",
    "    # Load MCP tools using official adapter\n",
    "    tools = await create_mcp_tools()\n",
    "    \n",
    "    if not tools:\n",
    "        print(\"No MCP tools loaded. Make sure the MCP server is accessible.\")\n",
    "        return None\n",
    "    \n",
    "    print(f\"Loaded {len(tools)} MCP tools: {[tool.name for tool in tools]}\")\n",
    "    \n",
    "    # Create system prompt\n",
    "    system_prompt = \"\"\"You are a helpful travel assistant that can help users find and book attractions including weather.\n",
    "    \n",
    "    You have access to multiple MCP tools for tourist attractions, including:\n",
    "    - Searching for attractions by location and category\n",
    "    - Getting detailed attraction information\n",
    "    - Booking attractions for visitors\n",
    "    - Getting random attraction suggestions\n",
    "    - And more...\n",
    "    \n",
    "    When users ask about travel plans, use these tools to provide comprehensive information.\n",
    "    Always be helpful and provide practical advice.\n",
    "    \n",
    "    You are also able to generate packing lists based on a given activity. When asked to create a packing list, you\n",
    "    should also ask the user about the location of their trip, and then check the weather there in order to generate\n",
    "    a better-tailored list.\n",
    "\n",
    "    You are also able to accept endorsements from users for this service. You should prompt users\n",
    "    to give endorsements after you have spoken to them. You should give the users the list of endorsers if you ask for it.\n",
    "    \"\"\"\n",
    "    \n",
    "    # Create prompt template\n",
    "    prompt = ChatPromptTemplate.from_messages([\n",
    "        (\"system\", system_prompt),\n",
    "        MessagesPlaceholder(variable_name=\"chat_history\"),\n",
    "        (\"human\", \"{input}\"),\n",
    "        MessagesPlaceholder(variable_name=\"agent_scratchpad\"),\n",
    "    ])\n",
    "    \n",
    "    # Create agent\n",
    "    agent = create_tool_calling_agent(llm, tools, prompt)\n",
    "\n",
    "    # memory\n",
    "    memory = ConversationBufferMemory(memory_key=\"chat_history\", return_messages=True)\n",
    "\n",
    "    # Create agent executor with tool logging callback and verbose output\n",
    "    agent_executor = AgentExecutor(agent=agent, tools=tools, memory=memory, verbose=True)\n",
    "    \n",
    "    return agent_executor\n",
    "\n",
    "# Initialize the agent (now async)\n",
    "agent_executor = None\n",
    "print(\"🤖 Agent setup function ready! Run the next cell to initialize.\")\n"
   ]
  },
  {
   "cell_type": "code",
   "execution_count": null,
   "id": "881d1451",
   "metadata": {},
   "outputs": [
    {
     "name": "stdout",
     "output_type": "stream",
     "text": [
      "Initializing agent with MCP tools...\n",
      "Loaded 10 MCP tools: ['get_attraction_details', 'search_attractions', 'get_random_attraction', 'book_attraction', 'search_and_format_attractions', 'get_current_weather', 'get_weather_forecast', 'get_suggested_packing_list', 'list_activities', 'get_activity_details']\n",
      "Loaded 10 MCP tools: ['get_attraction_details', 'search_attractions', 'get_random_attraction', 'book_attraction', 'search_and_format_attractions', 'get_current_weather', 'get_weather_forecast', 'get_suggested_packing_list', 'list_activities', 'get_activity_details']\n",
      "LangChain agent with MCP tools ready!\n"
     ]
    },
    {
     "name": "stderr",
     "output_type": "stream",
     "text": [
      "C:\\Users\\TomHyde\\AppData\\Local\\Temp\\ipykernel_32624\\595877392.py:55: LangChainDeprecationWarning: Please see the migration guide at: https://python.langchain.com/docs/versions/migrating_memory/\n",
      "  memory = ConversationBufferMemory(memory_key=\"chat_history\", return_messages=True)\n"
     ]
    }
   ],
   "source": [
    "# Initialize the agent with MCP tools\n",
    "async def initialize_agent():\n",
    "    \"\"\"Initialize the agent with MCP tools\"\"\"\n",
    "    global agent_executor\n",
    "    print(\"Initializing agent with MCP tools...\")\n",
    "    agent_executor = await setup_agent()\n",
    "    if agent_executor:\n",
    "        print(\"LangChain agent with MCP tools ready!\")\n",
    "    else:\n",
    "        print(\"Failed to initialize agent. Check MCP server connection.\")\n",
    "\n",
    "# Run the initialization\n",
    "await initialize_agent()\n"
   ]
  },
  {
   "cell_type": "markdown",
   "id": "1cd93eaf",
   "metadata": {},
   "source": [
    "## Running"
   ]
  },
  {
   "cell_type": "code",
   "execution_count": null,
   "id": "ba56fc7e",
   "metadata": {},
   "outputs": [
    {
     "name": "stdout",
     "output_type": "stream",
     "text": [
      "💬 User input handler ready!\n"
     ]
    }
   ],
   "source": [
    "# User Input Handler + logged agent steps\n",
    "async def process_user_input(user_input: str) -> str:\n",
    "    \"\"\"Process user input and return LLM response using MCP tools\"\"\"\n",
    "    if not agent_executor:\n",
    "        return \"Agent not initialized. Please run the initialization cell first.\"\n",
    "    \n",
    "    try:\n",
    "        # Use the agent to process the input and get intermediate steps\n",
    "        result = await agent_executor.ainvoke({\"input\": user_input})\n",
    "        output = result.get(\"output\") or result.get(\"final_output\") or \"\"\n",
    "\n",
    "        # Print intermediate steps if present\n",
    "        steps = result.get(\"intermediate_steps\") or []\n",
    "        for step in steps:\n",
    "            action = None\n",
    "            observation = None\n",
    "            if isinstance(step, tuple) and len(step) == 2:\n",
    "                action, observation = step\n",
    "            elif isinstance(step, dict) and \"action\" in step:\n",
    "                action = step.get(\"action\")\n",
    "                observation = step.get(\"observation\")\n",
    "            else:\n",
    "                continue\n",
    "\n",
    "            tool_name = getattr(action, \"tool\", getattr(action, \"tool_name\", \"unknown\"))\n",
    "            tool_args = getattr(action, \"tool_input\", getattr(action, \"input\", None))\n",
    "            print(f\"\\n--- Tool: {tool_name}\")\n",
    "            print(f\"args: {tool_args}\")\n",
    "            if observation is not None:\n",
    "                print(f\"result: {observation}\")\n",
    "            print(\"---\\n\")\n",
    "\n",
    "        return output\n",
    "    except Exception as e:\n",
    "        return f\"Error processing request: {str(e)}\"\n",
    "\n",
    "# Interactive function for easy testing\n",
    "async def ask_assistant(question: str):\n",
    "    \"\"\"Easy-to-use function for asking the travel assistant\"\"\"\n",
    "    print(f\"🧳 User: {question}\")\n",
    "    print(\"🤖 Assistant:\")\n",
    "    \n",
    "    response = await process_user_input(question)\n",
    "    print(response)\n",
    "    return response\n",
    "\n",
    "print(\"💬 User input handler ready!\")"
   ]
  },
  {
   "cell_type": "code",
   "execution_count": null,
   "id": "4d4447a3",
   "metadata": {},
   "outputs": [
    {
     "name": "stdout",
     "output_type": "stream",
     "text": [
      "Loaded 10 MCP tools: ['get_attraction_details', 'search_attractions', 'get_random_attraction', 'book_attraction', 'search_and_format_attractions', 'get_current_weather', 'get_weather_forecast', 'get_suggested_packing_list', 'list_activities', 'get_activity_details']\n",
      "MCP HTTP server connected successfully!\n",
      "Available tools: ['get_attraction_details', 'search_attractions', 'get_random_attraction', 'book_attraction', 'search_and_format_attractions', 'get_current_weather', 'get_weather_forecast', 'get_suggested_packing_list', 'list_activities', 'get_activity_details']\n",
      "  - get_attraction_details: Get detailed information about a specific tourist attraction\n",
      "\n",
      "Args:\n",
      "    attraction_id: Unique ID of the attraction\n",
      "    \n",
      "Returns:\n",
      "    AttractionDetails object as dictionary with attraction info, facilities, and visiting tips\n",
      "\n",
      "  - search_attractions: Search for tourist attractions with optional filters\n",
      "\n",
      "Args:\n",
      "    location: Location to search in (e.g., \"Paris\", \"India\", \"Italy\")\n",
      "    category: Category filter - \"historical\", \"natural\", \"cultural\", \"religious\", \"modern\", \"museums\", \"parks\", \"beaches\", \"mountains\", \"architecture\", \"entertainment\", \"adventure\"\n",
      "    limit: Maximum number of results (1-100, default: 20)\n",
      "    \n",
      "Returns:\n",
      "    AttractionsList object as dictionary with matching attractions\n",
      "\n",
      "  - get_random_attraction: Get a random tourist attraction for inspiration\n",
      "\n",
      "Args:\n",
      "    region: Region type - \"famous\" for world famous attractions, \"india\" for Indian attractions\n",
      "    \n",
      "Returns:\n",
      "    Attraction object as dictionary with random attraction details\n",
      "\n",
      "  - book_attraction: Book a visit to a tourist attraction\n",
      "\n",
      "Args:\n",
      "    attraction_id: ID of the attraction to book\n",
      "    visitor_name: Name of the primary visitor\n",
      "    email: Email address for booking confirmation\n",
      "    visit_date: Visit date in YYYY-MM-DD format\n",
      "    num_visitors: Number of visitors (1-50, default: 1)\n",
      "    phone: Optional phone number\n",
      "    special_requirements: Optional special requirements or requests\n",
      "    \n",
      "Returns:\n",
      "    BookingResponse object as dictionary with booking confirmation details\n",
      "\n",
      "  - search_and_format_attractions: Search for attractions and return formatted results for easy reading\n",
      "\n",
      "Args:\n",
      "    location: Location to search in (e.g., \"Paris\", \"India\", \"Italy\")  \n",
      "    category: Category filter (e.g., \"historical\", \"natural\", \"cultural\")\n",
      "    limit: Maximum number of results (1-20, default: 10)\n",
      "    \n",
      "Returns:\n",
      "    Formatted string with attraction search results\n",
      "\n",
      "  - get_current_weather: Get current weather information for a specific location\n",
      "\n",
      "Args:\n",
      "    location: City name or place name (e.g., \"London\", \"New York\", \"Tokyo\")\n",
      "    \n",
      "Returns:\n",
      "    CurrentWeather object as dictionary or error dict\n",
      "\n",
      "  - get_weather_forecast: Get weather forecast for a specific location\n",
      "\n",
      "Args:\n",
      "    location: City name or place name (e.g., \"London\", \"New York\", \"Tokyo\")\n",
      "    days: Number of days for forecast (1-16, default is 7)\n",
      "    \n",
      "Returns:\n",
      "    WeatherForecast object as dictionary or error dict\n",
      "\n",
      "  - get_suggested_packing_list: Generate a comprehensive suggested packing list for a specific activity\n",
      "\n",
      "Args:\n",
      "    activity: The activity type (e.g., \"day_hike\", \"beach_trip\", \"business_travel\")\n",
      "    cold_threshold_c: Temperature threshold in Celsius below which cold items are added (default: 10°C)\n",
      "    expect_rain: Whether to include rain items regardless of temperature (default: false)\n",
      "    \n",
      "Returns:\n",
      "    PackingList object as dictionary with activity-specific items and weather considerations\n",
      "\n",
      "  - list_activities: Get a list of all supported activities with descriptions\n",
      "\n",
      "Args:\n",
      "    category: Optional category filter (e.g., \"outdoor\", \"travel\", \"sports\", \"professional\")\n",
      "    \n",
      "Returns:\n",
      "    ActivityList object as dictionary with supported activities and categories\n",
      "\n",
      "  - get_activity_details: Get detailed information about a specific activity\n",
      "\n",
      "Args:\n",
      "    activity: The activity name to get details for\n",
      "    \n",
      "Returns:\n",
      "    Detailed activity information including description, category, and item counts\n",
      "\n"
     ]
    }
   ],
   "source": [
    "# Test MCP server connectivity and tools\n",
    "async def test_mcp_connection():\n",
    "    \"\"\"Test MCP server connection and list available tools\"\"\"\n",
    "    tools = await create_mcp_tools()\n",
    "    if tools:\n",
    "        print(f\"MCP HTTP server connected successfully!\")\n",
    "        print(f\"Available tools: {[tool.name for tool in tools]}\")\n",
    "        for tool in tools:\n",
    "            print(f\"  - {tool.name}: {tool.description}\")\n",
    "    else:\n",
    "        print(\"Failed to connect to MCP HTTP server\")\n",
    "\n",
    "# Test MCP HTTP connection\n",
    "await test_mcp_connection()\n"
   ]
  },
  {
   "cell_type": "code",
   "execution_count": null,
   "id": "57dcf6ff",
   "metadata": {},
   "outputs": [
    {
     "name": "stdout",
     "output_type": "stream",
     "text": [
      "🧳 User: What are some popular attractions in Paris? and what is the weather?\n",
      "🤖 Assistant:\n",
      "\n",
      "\n",
      "\u001b[1m> Entering new AgentExecutor chain...\u001b[0m\n",
      "\u001b[32;1m\u001b[1;3m\n",
      "Invoking: `search_and_format_attractions` with `{'location': 'Paris', 'limit': 5}`\n",
      "\n",
      "\n",
      "\u001b[0m\u001b[32;1m\u001b[1;3m\n",
      "Invoking: `get_current_weather` with `{'location': 'Paris'}`\n",
      "\n",
      "\n",
      "\u001b[0m\u001b[36;1m\u001b[1;3m🎯 Found 2 attractions in Paris:\n",
      "\n",
      "1. 🏛️ **Eiffel Tower**\n",
      "   📍 Paris, France\n",
      "   🏷️ Architecture\n",
      "   ⭐ 4.6/5.0\n",
      "   💰 €29.40 - €73.30\n",
      "\n",
      "2. 🏛️ **Louvre Museum**\n",
      "   📍 Paris, France\n",
      "   🏷️ Museums\n",
      "   ⭐ 4.4/5.0\n",
      "   💰 €17\n",
      "\n",
      "\u001b[0m\u001b[33;1m\u001b[1;3m{\n",
      "  \"location\": \"Paris, Île-de-France, France\",\n",
      "  \"coordinates\": {\n",
      "    \"lat\": 48.85341,\n",
      "    \"lon\": 2.3488\n",
      "  },\n",
      "  \"temperature\": {\n",
      "    \"current\": 11.3,\n",
      "    \"feels_like\": 9.4,\n",
      "    \"min\": null,\n",
      "    \"max\": null,\n",
      "    \"unit\": \"°C\"\n",
      "  },\n",
      "  \"weather\": {\n",
      "    \"description\": \"Slight rain\",\n",
      "    \"code\": 61\n",
      "  },\n",
      "  \"wind\": {\n",
      "    \"speed\": 13.6,\n",
      "    \"direction\": 11,\n",
      "    \"unit\": \"km/h\",\n",
      "    \"max_gusts\": null\n",
      "  },\n",
      "  \"humidity\": 86,\n",
      "  \"pressure\": 1017.9,\n",
      "  \"precipitation\": 0.6,\n",
      "  \"timezone\": \"Europe/Paris\",\n",
      "  \"timestamp\": \"2025-09-24T12:15\"\n",
      "}\u001b[0m\u001b[32;1m\u001b[1;3mHere are some popular attractions in Paris:\n",
      "\n",
      "1. Eiffel Tower\n",
      "   - Category: Architecture\n",
      "   - Rating: 4.6/5.0\n",
      "   - Entry fee: €29.40 - €73.30\n",
      "\n",
      "2. Louvre Museum\n",
      "   - Category: Museums\n",
      "   - Rating: 4.4/5.0\n",
      "   - Entry fee: €17\n",
      "\n",
      "Current weather in Paris:\n",
      "- Temperature: 11.3°C (feels like 9.4°C)\n",
      "- Condition: Slight rain\n",
      "- Humidity: 86%\n",
      "- Wind: 13.6 km/h\n",
      "\n",
      "You may want to bring an umbrella or a rain jacket if you're visiting today! Would you like more suggestions or details about any of these attractions?\u001b[0m\n",
      "\n",
      "\u001b[1m> Finished chain.\u001b[0m\n",
      "Here are some popular attractions in Paris:\n",
      "\n",
      "1. Eiffel Tower\n",
      "   - Category: Architecture\n",
      "   - Rating: 4.6/5.0\n",
      "   - Entry fee: €29.40 - €73.30\n",
      "\n",
      "2. Louvre Museum\n",
      "   - Category: Museums\n",
      "   - Rating: 4.4/5.0\n",
      "   - Entry fee: €17\n",
      "\n",
      "Current weather in Paris:\n",
      "- Temperature: 11.3°C (feels like 9.4°C)\n",
      "- Condition: Slight rain\n",
      "- Humidity: 86%\n",
      "- Wind: 13.6 km/h\n",
      "\n",
      "You may want to bring an umbrella or a rain jacket if you're visiting today! Would you like more suggestions or details about any of these attractions?\n",
      "\n",
      "==================================================\n",
      "\n"
     ]
    }
   ],
   "source": [
    "# 🚀 EXAMPLE USAGE - Run this cell after setting up your API key!\n",
    "\n",
    "# Simple question\n",
    "await ask_assistant(\"What are some popular attractions in Paris? and what is the weather?\")\n",
    "print(\"\\n\" + \"=\"*50 + \"\\n\")\n",
    "\n",
    "# Example 2: Weather + attractions\n",
    "# await ask_assistant(\"I'm planning to visit paris tomorrow. What's the weather like and what attractions should I visit?\")\n",
    "# print(\"\\n\" + \"=\"*50 + \"\\n\")\n"
   ]
  },
  {
   "cell_type": "code",
   "execution_count": null,
   "id": "bd0841c0",
   "metadata": {},
   "outputs": [
    {
     "name": "stdout",
     "output_type": "stream",
     "text": [
      "Type 'exit' to quit. Press Enter on an empty line to skip.\n"
     ]
    }
   ],
   "source": [
    "# Interactive chat loop — keep asking questions until you exit\n",
    "\n",
    "# try -\n",
    "# give me a random attraction\n",
    "# what about attractions in paris\n",
    "# more details on eiffel tower\n",
    "# book eiffel tower\n",
    "\n",
    "\n",
    "async def chat_loop():\n",
    "    print(\"Type 'exit' to quit. Press Enter on an empty line to skip.\")\n",
    "    while True:\n",
    "        try:\n",
    "            question = input(\"You: \").strip()\n",
    "        except (EOFError, KeyboardInterrupt):\n",
    "            print(\"\\nExiting.\")\n",
    "            break\n",
    "        if not question:\n",
    "            continue\n",
    "        if question.lower() in (\"exit\", \"quit\", \"q\"):\n",
    "            print(\"Goodbye!\")\n",
    "            break\n",
    "        await ask_assistant(question)\n",
    "\n",
    "# Start the loop\n",
    "await chat_loop()\n"
   ]
  },
  {
   "cell_type": "code",
   "execution_count": null,
   "id": "968731b7",
   "metadata": {},
   "outputs": [
    {
     "name": "stdout",
     "output_type": "stream",
     "text": [
      "🧹 Cleanup function ready!\n"
     ]
    }
   ],
   "source": [
    "# Cleanup function for HTTP MCP client\n",
    "async def cleanup_mcp():\n",
    "    \"\"\"Cleanup MCP client and server resources\"\"\"\n",
    "    global mcp_client\n",
    "    if mcp_client:\n",
    "        try:\n",
    "            await mcp_client.close()\n",
    "            print(\"MCP client closed\")\n",
    "        except Exception as e:\n",
    "            print(f\"Warning: Error closing MCP client: {e}\")\n",
    "        mcp_client = None\n",
    "\n",
    "print(\"🧹 Cleanup function ready!\")\n"
   ]
  }
 ],
 "metadata": {
  "kernelspec": {
   "display_name": ".venv",
   "language": "python",
   "name": "python3"
  },
  "language_info": {
   "codemirror_mode": {
    "name": "ipython",
    "version": 3
   },
   "file_extension": ".py",
   "mimetype": "text/x-python",
   "name": "python",
   "nbconvert_exporter": "python",
   "pygments_lexer": "ipython3",
   "version": "3.13.7"
  }
 },
 "nbformat": 4,
 "nbformat_minor": 5
}
